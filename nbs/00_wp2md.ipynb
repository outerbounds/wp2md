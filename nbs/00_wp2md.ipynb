{
 "cells": [
  {
   "cell_type": "code",
   "execution_count": 1,
   "metadata": {},
   "outputs": [],
   "source": [
    "# default_exp wp2md"
   ]
  },
  {
   "cell_type": "markdown",
   "metadata": {},
   "source": [
    "# wp2md\n",
    "\n",
    "> Convert Wordpress to Markdown Files"
   ]
  },
  {
   "cell_type": "code",
   "execution_count": 2,
   "metadata": {},
   "outputs": [],
   "source": [
    "#export\n",
    "import re\n",
    "from fastcore.all import urljson, AttrDict, Path, first, test_eq, urlread, urlsave, L, call_parse, store_true, Param\n",
    "from IPython.display import Markdown\n",
    "from markdownify import markdownify as md\n",
    "from json import dumps"
   ]
  },
  {
   "cell_type": "code",
   "execution_count": 3,
   "metadata": {},
   "outputs": [],
   "source": [
    "#hide\n",
    "from nbdev.showdoc import *"
   ]
  },
  {
   "cell_type": "code",
   "execution_count": 4,
   "metadata": {},
   "outputs": [],
   "source": [
    "#export\n",
    "def _getpost(url:str=None, post_id:int=None, baseurl:str=None):\n",
    "    if url: post=urljson(url)\n",
    "    else: post=urljson(f'{baseurl}/{post_id}')\n",
    "    return AttrDict(post)"
   ]
  },
  {
   "cell_type": "code",
   "execution_count": 5,
   "metadata": {},
   "outputs": [],
   "source": [
    "_post = _getpost('https://outerbounds.com/wp-json/wp/v2/posts/220')\n",
    "assert _post\n",
    "\n",
    "_post = _getpost(post_id=247, baseurl='https://outerbounds.com/wp-json/wp/v2/posts') #this is an alternate way of calling this \n",
    "assert _post"
   ]
  },
  {
   "cell_type": "code",
   "execution_count": 6,
   "metadata": {},
   "outputs": [],
   "source": [
    "#export\n",
    "_re_api = re.compile(r'<link rel=\"alternate\" type=\"application/json\" href=\"(\\S+)\"')\n",
    "\n",
    "def url2api(url):\n",
    "    \"Get the wordpress api endpoint to retrieve post from the public url\"\n",
    "    api = first(_re_api.findall(urlread(url)))\n",
    "    if not api: raise Exception(\"Was not able to find Wordpress ID in site.  Pleasure ensure that the URL corresponds to a wordpress site.\")\n",
    "    return api"
   ]
  },
  {
   "cell_type": "markdown",
   "metadata": {},
   "source": [
    "`url2api` allows you to retrieve the full api endpoint to get the contents of the wordpress article [as described here](https://developer.wordpress.org/rest-api/reference/posts/#retrieve-a-post) from any public-facing wordpress url! "
   ]
  },
  {
   "cell_type": "code",
   "execution_count": 7,
   "metadata": {},
   "outputs": [],
   "source": [
    "test_eq(url2api('https://outerbounds.com/blog/notebooks-in-production-with-metaflow/'), \n",
    "        'https://outerbounds.com/wp-json/wp/v2/posts/220')"
   ]
  },
  {
   "cell_type": "code",
   "execution_count": 8,
   "metadata": {},
   "outputs": [
    {
     "data": {
      "text/plain": [
       "Path('foo/bar')"
      ]
     },
     "execution_count": 8,
     "metadata": {},
     "output_type": "execute_result"
    }
   ],
   "source": [
    "Path('foo/bar/hell.md').parent"
   ]
  },
  {
   "cell_type": "code",
   "execution_count": 9,
   "metadata": {},
   "outputs": [],
   "source": [
    "#export\n",
    "\n",
    "_re_img = re.compile(r'\\!\\[.*?\\]\\((\\S+)\\)')\n",
    "\n",
    "class WP:\n",
    "    def __init__(self, url:str=None, baseurl:str=None, post_id:int=None, dest_path:str=None, dest_file:str=None):\n",
    "        if url: \n",
    "            self.posturl = url2api(url)\n",
    "            self.baseurl = self.posturl.split('posts/')[0]\n",
    "        else:\n",
    "            self.baseurl = baseurl if baseurl.endswith('/') else baseurl+'/'\n",
    "            self.posturl = f\"{self.baseurl}posts/{post_id}\"\n",
    "        \n",
    "        self.post = _getpost(self.posturl)\n",
    "        self.img_map = {}\n",
    "        self.dest_path = self.dest_path = '.' if not dest_path else dest_path \n",
    "        self.dest_file = self.slug+'.md' if not dest_file else dest_file\n",
    "        \n",
    "    _props = ['title', 'date', 'tags', 'keywords', 'draft', 'description', 'image', 'slug']\n",
    "    \n",
    "    @property\n",
    "    def mdimages(self): return _re_img.findall(self.raw_markdown)\n",
    "    \n",
    "    def save_images(self, dest_path, nb_path):\n",
    "        for i,img in enumerate(self.mdimages):\n",
    "            dest=Path(dest_path)/f'{i}_img'\n",
    "            file_pth = urlsave(img, dest=dest)\n",
    "            self.img_map[img] = str(file_pth.relative_to(nb_path))\n",
    "        if getattr(self, 'image'):\n",
    "            img = self.image\n",
    "            dest=Path(dest_path)/f'og.png'\n",
    "            file_pth = urlsave(img, dest=dest)\n",
    "            self.img_map[img] = str(file_pth.relative_to(nb_path))\n",
    "            \n",
    "    def _replace_images(self, md):\n",
    "        for o,n in self.img_map.items():\n",
    "            md = re.sub(o, n, md)\n",
    "        return md\n",
    "    \n",
    "    @property\n",
    "    def keywords(self) -> list:\n",
    "        return self.tags\n",
    "    \n",
    "    @property\n",
    "    def tags(self) -> list:\n",
    "        _tags = L(self.post.get('categories')).map(self._tagid2nm).filter()\n",
    "        return dumps(list(_tags))\n",
    "        \n",
    "    \n",
    "    def _tagid2nm(self, id) -> str:\n",
    "        return urljson(f\"{self.baseurl}categories/{id}\").get('name')\n",
    "    \n",
    "    @property\n",
    "    def draft(self) -> str: \n",
    "        return str(self.post.draft != 'publish').lower()\n",
    "    \n",
    "    @property\n",
    "    def description(self) -> str:\n",
    "        return self.post.yoast_head_json.get('description')\n",
    "    \n",
    "    @property\n",
    "    def title(self) -> str:\n",
    "        title = self.post.get('title', None)\n",
    "        return title.get('rendered', None) if title else title\n",
    "    \n",
    "    @property\n",
    "    def image(self) -> str:\n",
    "        img = self.post.get('uagb_featured_image_src', None)\n",
    "        return first(img.get('large', [])) if img else img\n",
    "    \n",
    "    @property\n",
    "    def frontmatter(self) -> str:\n",
    "        fm = '---\\n'\n",
    "        for p in self._props:\n",
    "            attr = getattr(self, p, None)\n",
    "            if attr:\n",
    "                if p == 'image': fm+=f'{p}: ./{self.img_dir}/og.png\\n'\n",
    "                elif p not in ['keywords', 'tags']: fm+=f'{p}: \"{attr}\"\\n'\n",
    "                else: fm+=f'{p}: {attr}\\n'\n",
    "        return fm+'---\\n'\n",
    "    \n",
    "    def __getattr__(self, name):\n",
    "        return self.post.get(name, None)\n",
    "    \n",
    "    @property\n",
    "    def raw_markdown(self) -> str: return md(self.post.content['rendered'])\n",
    "    \n",
    "    @property\n",
    "    def markdown(self) -> str: \n",
    "        \"Return the markdown representation of the body of the post.\"\n",
    "        return self.frontmatter + self._replace_images(self.raw_markdown)\n",
    "    \n",
    "    @property\n",
    "    def dest_file_path(self) -> Path: return Path(self.dest_path)/self.dest_file\n",
    "    \n",
    "    @property\n",
    "    def img_dir(self) -> Path: \n",
    "        return self.dest_file_path.parent/f'_{self.dest_file_path.stem}_data'\n",
    "\n",
    "    def tomd(self, download=True) -> None:\n",
    "        \"Write markdown representation of wordpress post\"\n",
    "        if download: self.save_images(self.img_dir, nb_path=self.dest_path)\n",
    "        print(f'Writing: {self.dest_file_path}')\n",
    "        self.dest_file_path.write_text(self.markdown)"
   ]
  },
  {
   "cell_type": "markdown",
   "metadata": {},
   "source": [
    "Instantiating a `WP` object will allow you to get access to useful properties that can render as front matter."
   ]
  },
  {
   "cell_type": "code",
   "execution_count": 10,
   "metadata": {},
   "outputs": [],
   "source": [
    "_post = WP('https://outerbounds.com/blog/notebooks-in-production-with-metaflow/')"
   ]
  },
  {
   "cell_type": "code",
   "execution_count": 11,
   "metadata": {},
   "outputs": [],
   "source": [
    "_result=\"\"\"---\n",
    "title: \"Notebooks In Production With Metaflow\"\n",
    "date: \"2022-02-09T22:59:06\"\n",
    "tags: [\"machine learning\", \"MLOps\", \"notebooks\"]\n",
    "keywords: [\"machine learning\", \"MLOps\", \"notebooks\"]\n",
    "description: \"Learn how to use notebooks in production ML pipelines with a new Metaflow feature. This is model framework-agnostic and so will work with all types of ML models, whether they be scikit-learn, TensorFlow, PyTorch, or XGBoost.\"\n",
    "image: ./_notebooks-in-production-with-metaflow_data/og.png\n",
    "slug: \"notebooks-in-production-with-metaflow\"\n",
    "---\n",
    "\"\"\"\n",
    "test_eq(_post.frontmatter, _result)"
   ]
  },
  {
   "cell_type": "markdown",
   "metadata": {},
   "source": [
    "The markdown representation is also available as a property (below we print the first 1,000 characters:"
   ]
  },
  {
   "cell_type": "code",
   "execution_count": 12,
   "metadata": {},
   "outputs": [
    {
     "name": "stdout",
     "output_type": "stream",
     "text": [
      "---\n",
      "title: \"Notebooks In Production With Metaflow\"\n",
      "date: \"2022-02-09T22:59:06\"\n",
      "tags: [\"machine learning\", \"MLOps\", \"notebooks\"]\n",
      "keywords: [\"machine learning\", \"MLOps\", \"notebooks\"]\n",
      "description: \"Learn how to use notebooks in production ML pipelines with a new Metaflow feature. This is model framework-agnostic and so will work with all types of ML models, whether they be scikit-learn, TensorFlow, PyTorch, or XGBoost.\"\n",
      "image: ./_notebooks-in-production-with-metaflow_data/og.png\n",
      "slug: \"notebooks-in-production-with-metaflow\"\n",
      "---\n",
      "\n",
      "\n",
      "By Hamel Husain\n",
      "\n",
      "\n",
      "*Learn how to use notebooks in production ML workflows with a new Metaflow feature*\n",
      "\n",
      "\n",
      "When building production-ready machine learning systems, it is critical to monitor the health and performance of those systems with reports and visualizations. Furthermore, allowing for rapid debugging and interactive introspection is critical when workflows fail or do unexpected things. Jupyter notebooks have often been a preferred tool of data scientists for these tasks of visualization, exploration, debugging, and rapid iteration.  Ironically, many production systems do not integrate appropriately with notebooks, which can significantly frustrate progress on these tasks.\n",
      "\n",
      "\n",
      "Indeed, in the field of data science tooling, one of the most [hotly-contested](https://mlops.community/jupyter-notebooks-in-production/) questions is whether notebooks are suitable for production use. We believe that tools should strive to meet data scientists where they are ins\n"
     ]
    }
   ],
   "source": [
    "print(_post.markdown[:1500])"
   ]
  },
  {
   "cell_type": "markdown",
   "metadata": {},
   "source": [
    "### Getting Hidden Posts\n",
    "\n",
    "A wordpress post may note be public (i.e. it might have a status other than `published`).  In that case, you will need two pieces of information to retrieve the markdown content for that post. \n",
    "\n",
    "1. The url for the api.  This is `<your_site>/wp-json/v2/posts`, for example `https://outerbounds.com/wp-json/wp/v2/posts`.  Note: _This is [the api route to retrieve a single WP post](https://developer.wordpress.org/rest-api/reference/posts/#retrieve-a-post)._\n",
    "\n",
    "2. The `post id` you wish to convert to markdown. The post id can be extracted from wordpress edit url, for example the id for `https://outerbounds.com/wp-admin/post.php?post=220&action=edit` is `220`.\n",
    "\n",
    "For example, we can get the contets of a post which has an id of `220` as follows:"
   ]
  },
  {
   "cell_type": "code",
   "execution_count": 13,
   "metadata": {},
   "outputs": [],
   "source": [
    "_post = WP(baseurl='https://outerbounds.com/wp-json/wp/v2/', post_id=220)\n",
    "test_eq(_post.title, 'Notebooks In Production With Metaflow')"
   ]
  },
  {
   "cell_type": "markdown",
   "metadata": {},
   "source": [
    "### Downloading Images\n",
    "\n",
    "`nb2md` also Downloads Images for you, and puts the images in a folder named `_<name_of_markdown_file>_data/`"
   ]
  },
  {
   "cell_type": "code",
   "execution_count": 14,
   "metadata": {},
   "outputs": [],
   "source": [
    "assert len(_post.mdimages) == 5"
   ]
  },
  {
   "cell_type": "code",
   "execution_count": 15,
   "metadata": {},
   "outputs": [
    {
     "name": "stdout",
     "output_type": "stream",
     "text": [
      "Writing: notebooks-in-production-with-metaflow.md\n"
     ]
    },
    {
     "data": {
      "text/plain": [
       "(#6) [Path('_notebooks-in-production-with-metaflow_data/4_img'),Path('_notebooks-in-production-with-metaflow_data/og.png'),Path('_notebooks-in-production-with-metaflow_data/2_img'),Path('_notebooks-in-production-with-metaflow_data/3_img'),Path('_notebooks-in-production-with-metaflow_data/1_img'),Path('_notebooks-in-production-with-metaflow_data/0_img')]"
      ]
     },
     "execution_count": 15,
     "metadata": {},
     "output_type": "execute_result"
    }
   ],
   "source": [
    "_post.tomd()\n",
    "_data_dir = Path('_notebooks-in-production-with-metaflow_data/')\n",
    "assert _data_dir.exists()\n",
    "_data_dir.ls()"
   ]
  },
  {
   "cell_type": "markdown",
   "metadata": {},
   "source": [
    "The paths to downloaded images are also automatically replaced in the markdown file:"
   ]
  },
  {
   "cell_type": "code",
   "execution_count": 16,
   "metadata": {},
   "outputs": [],
   "source": [
    "_md = Path('notebooks-in-production-with-metaflow.md').read_text()\n",
    "_img_url=r'https://lh4.googleusercontent.com/-8XLZezB4E7s64BQcu-KTZO0VWh4VyKXpNhVwzSqPSgrAC_3qu62OZ-fleSr5mGRqPYTcEm5ed_ZKx8o6W0o2JIQea1kCemhuX5cZMMZRRtumGi0yf0mIp3DJWvDzKGpUR9GP8ug'\n",
    "assert _img_url in _post.raw_markdown\n",
    "assert _img_url not in _md"
   ]
  },
  {
   "cell_type": "code",
   "execution_count": 17,
   "metadata": {},
   "outputs": [],
   "source": [
    "#hide\n",
    "#notest\n",
    "!rm -rf _notebooks-in-production-with-metaflow_data/\n",
    "!rm -rf notebooks-in-production-with-metaflow.md"
   ]
  },
  {
   "cell_type": "markdown",
   "metadata": {},
   "source": [
    "## CLI Utility For Wordpress To Markdown"
   ]
  },
  {
   "cell_type": "code",
   "execution_count": 18,
   "metadata": {},
   "outputs": [],
   "source": [
    "#export\n",
    "@call_parse\n",
    "def wp2md(url_or_id:Param('the public URL of the WP article OR the post id', str),\n",
    "          apiurl:Param('the base url for the wordpress api to retrieve posts for your site.', str)='https://outerbounds.com/wp-json/wp/v2/posts',\n",
    "          dest_path:Param('The path to save the markdown file to', str)='.',\n",
    "          dest_file:Param('Name of destination markdown file. If not given defaults to the slug indicated in wordpress', str)=None,\n",
    "          no_download:Param('Pass this flag to NOT download any images locally', store_true)=False,\n",
    "         ):\n",
    "    \"Convert A wordpress post into markdown file with front matter.\"\n",
    "    if url_or_id.isnumeric(): post = WP(baseurl=apiurl, post_id=url_or_id)\n",
    "    else: post = WP(url=url_or_id, dest_path=dest_path, dest_file=dest_file)\n",
    "    post.tomd(download=not no_download)"
   ]
  },
  {
   "cell_type": "code",
   "execution_count": null,
   "metadata": {},
   "outputs": [],
   "source": []
  }
 ],
 "metadata": {
  "kernelspec": {
   "display_name": "Python 3 (ipykernel)",
   "language": "python",
   "name": "python3"
  },
  "language_info": {
   "codemirror_mode": {
    "name": "ipython",
    "version": 3
   },
   "file_extension": ".py",
   "mimetype": "text/x-python",
   "name": "python",
   "nbconvert_exporter": "python",
   "pygments_lexer": "ipython3",
   "version": "3.9.7"
  }
 },
 "nbformat": 4,
 "nbformat_minor": 4
}
